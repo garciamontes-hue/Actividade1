{
  "nbformat": 4,
  "nbformat_minor": 0,
  "metadata": {
    "colab": {
      "provenance": [],
      "authorship_tag": "ABX9TyOozsRAzOLr9AcnL/mNrLiz",
      "include_colab_link": true
    },
    "kernelspec": {
      "name": "python3",
      "display_name": "Python 3"
    },
    "language_info": {
      "name": "python"
    }
  },
  "cells": [
    {
      "cell_type": "markdown",
      "metadata": {
        "id": "view-in-github",
        "colab_type": "text"
      },
      "source": [
        "<a href=\"https://colab.research.google.com/github/garciamontes-hue/Actividade1/blob/main/Lista_1.ipynb\" target=\"_parent\"><img src=\"https://colab.research.google.com/assets/colab-badge.svg\" alt=\"Open In Colab\"/></a>"
      ]
    },
    {
      "cell_type": "markdown",
      "source": [
        "1. Importe a biblioteca math e use a função sqrt() para calcular a raiz quadrada de 256."
      ],
      "metadata": {
        "id": "bLLhIkNKplyo"
      }
    },
    {
      "cell_type": "code",
      "source": [
        "# Exemplo de importação de módulo\n",
        "import math\n",
        "math.sqrt(256)"
      ],
      "metadata": {
        "colab": {
          "base_uri": "https://localhost:8080/"
        },
        "id": "qmnxy31Tps0q",
        "outputId": "53133439-82b5-4b11-d3de-3cbb3c9edf8d"
      },
      "execution_count": null,
      "outputs": [
        {
          "output_type": "execute_result",
          "data": {
            "text/plain": [
              "16.0"
            ]
          },
          "metadata": {},
          "execution_count": 1
        }
      ]
    },
    {
      "cell_type": "markdown",
      "source": [
        "2. Utilize o módulo random para gerar um número aleatório entre 1 e 10"
      ],
      "metadata": {
        "id": "5ClzhWfYp1qw"
      }
    },
    {
      "cell_type": "code",
      "source": [
        "import random\n",
        "\n",
        "num_aleatorio = random.randint(1, 10)\n",
        "num_aleatorio"
      ],
      "metadata": {
        "colab": {
          "base_uri": "https://localhost:8080/"
        },
        "id": "tETh1rIdp6OV",
        "outputId": "623b6030-8ff3-420a-99b4-f835c5ab2715"
      },
      "execution_count": null,
      "outputs": [
        {
          "output_type": "execute_result",
          "data": {
            "text/plain": [
              "7"
            ]
          },
          "metadata": {},
          "execution_count": 2
        }
      ]
    },
    {
      "cell_type": "markdown",
      "source": [
        "3. Escreva um loop for que imprime números de 1 a 10.\n",
        "\n"
      ],
      "metadata": {
        "id": "s3tRDgPxr4hH"
      }
    },
    {
      "cell_type": "code",
      "source": [
        "# Exemplo de laço for\n",
        "for i in range(1,11):\n",
        "    print(i)"
      ],
      "metadata": {
        "colab": {
          "base_uri": "https://localhost:8080/"
        },
        "id": "SARmAWNor7rq",
        "outputId": "e2ad4840-529a-4e51-8d12-94f42268a80d"
      },
      "execution_count": null,
      "outputs": [
        {
          "output_type": "stream",
          "name": "stdout",
          "text": [
            "1\n",
            "2\n",
            "3\n",
            "4\n",
            "5\n",
            "6\n",
            "7\n",
            "8\n",
            "9\n",
            "10\n"
          ]
        }
      ]
    },
    {
      "cell_type": "markdown",
      "source": [
        "4. Utilize um loop while para imprimir os números de 10 até 1 em ordem decrescente."
      ],
      "metadata": {
        "id": "rbi2G2w6vOip"
      }
    },
    {
      "cell_type": "code",
      "source": [
        "# Exemplo de laço while\n",
        "i = 10\n",
        "while i >= 1:\n",
        "    print(i)\n",
        "    i -= 1\n",
        "\n",
        "\n",
        "\n",
        "\n"
      ],
      "metadata": {
        "colab": {
          "base_uri": "https://localhost:8080/"
        },
        "id": "nNjJvtukvupJ",
        "outputId": "6a26b7f0-6b7f-4c3b-c96e-aad00459a502"
      },
      "execution_count": null,
      "outputs": [
        {
          "output_type": "stream",
          "name": "stdout",
          "text": [
            "10\n",
            "9\n",
            "8\n",
            "7\n",
            "6\n",
            "5\n",
            "4\n",
            "3\n",
            "2\n",
            "1\n"
          ]
        }
      ]
    },
    {
      "cell_type": "markdown",
      "source": [
        "5. Crie um programa que pergunte ao usuário um número e determine se ele é par ou ímpar.\n",
        "\n"
      ],
      "metadata": {
        "id": "R4CuQO_ewKM_"
      }
    },
    {
      "cell_type": "code",
      "source": [
        "num = int(input(\"Digite um número: \"))\n",
        "if num % 2 == 0:\n",
        "    print(\"O número é par.\")\n",
        "else:\n",
        "    print(\"O número é ímpar.\")"
      ],
      "metadata": {
        "colab": {
          "base_uri": "https://localhost:8080/"
        },
        "id": "zH3XZFs2wLdg",
        "outputId": "7364f331-d876-4cbc-f84a-5a2ee540723e"
      },
      "execution_count": null,
      "outputs": [
        {
          "output_type": "stream",
          "name": "stdout",
          "text": [
            "Digite um número: 75\n",
            "O número é ímpar.\n"
          ]
        }
      ]
    },
    {
      "cell_type": "markdown",
      "source": [
        "6. Defina uma função saudacao() que recebe um nome como argumento e imprime \"Olá, [nome]!\""
      ],
      "metadata": {
        "id": "lb0-GFK6wqb7"
      }
    },
    {
      "cell_type": "code",
      "source": [
        "def saudacao(nome):\n",
        "    print(f\"Olá, {nome}!\")\n",
        "\n",
        "saudacao(\"Maria\")\n"
      ],
      "metadata": {
        "colab": {
          "base_uri": "https://localhost:8080/"
        },
        "id": "nmzdqkERwpuV",
        "outputId": "a9b83642-8f07-43a3-d019-ad291c485d09"
      },
      "execution_count": null,
      "outputs": [
        {
          "output_type": "stream",
          "name": "stdout",
          "text": [
            "Olá, Maria!\n"
          ]
        }
      ]
    },
    {
      "cell_type": "markdown",
      "source": [
        "7. Escreva uma função maximo() que recebe dois números como argumentos e retorna o maior deles."
      ],
      "metadata": {
        "id": "qKQdf89Wxug8"
      }
    },
    {
      "cell_type": "code",
      "source": [
        "def maximo(a, b):\n",
        "    return a if a > b else b\n",
        "\n",
        "print(\"Maior número entre 5 e 9:\", maximo(5, 9))"
      ],
      "metadata": {
        "colab": {
          "base_uri": "https://localhost:8080/"
        },
        "id": "fWvAh9-7xzaz",
        "outputId": "84e47a4c-925f-49dc-d77f-f7f248c1674f"
      },
      "execution_count": null,
      "outputs": [
        {
          "output_type": "stream",
          "name": "stdout",
          "text": [
            "Maior número entre 5 e 9: 9\n"
          ]
        }
      ]
    },
    {
      "cell_type": "markdown",
      "source": [
        "8. Crie uma string \"Python\" e use slicing para obter a substring \"thon\"."
      ],
      "metadata": {
        "id": "_lGrLHxc0CM0"
      }
    },
    {
      "cell_type": "code",
      "source": [
        "texto = \"Python\"\n",
        "substring = texto[2:]\n",
        "print(substring)"
      ],
      "metadata": {
        "colab": {
          "base_uri": "https://localhost:8080/"
        },
        "id": "1eYHS1Cs0Cm1",
        "outputId": "2229eb27-e3db-4ee6-a236-89ae6fefa67e"
      },
      "execution_count": null,
      "outputs": [
        {
          "output_type": "stream",
          "name": "stdout",
          "text": [
            "thon\n"
          ]
        }
      ]
    },
    {
      "cell_type": "code",
      "source": [
        "texto = \"Python\"\n",
        "substring = texto[:2]\n",
        "print(substring)"
      ],
      "metadata": {
        "colab": {
          "base_uri": "https://localhost:8080/"
        },
        "id": "ipEkPEPrB1aS",
        "outputId": "db795aba-cf5a-4723-8aa3-8ed71741f403"
      },
      "execution_count": null,
      "outputs": [
        {
          "output_type": "stream",
          "name": "stdout",
          "text": [
            "Py\n"
          ]
        }
      ]
    },
    {
      "cell_type": "markdown",
      "source": [
        "9. Inverta a string \"Python\" usando slicing."
      ],
      "metadata": {
        "id": "K1tyZzaV0mSA"
      }
    },
    {
      "cell_type": "code",
      "source": [
        "invertida = texto[::-1]\n",
        "print(invertida)"
      ],
      "metadata": {
        "colab": {
          "base_uri": "https://localhost:8080/"
        },
        "id": "Xp3Kcjg50rxP",
        "outputId": "08dc4eb9-ce5f-43a9-e4dc-6379a92c85ab"
      },
      "execution_count": null,
      "outputs": [
        {
          "output_type": "stream",
          "name": "stdout",
          "text": [
            "nohtyP\n"
          ]
        }
      ]
    },
    {
      "cell_type": "markdown",
      "source": [
        "10. Crie uma lista com os números de 1 a 5 e adicione o número 6 ao final da lista."
      ],
      "metadata": {
        "id": "OisebeIZtifT"
      }
    },
    {
      "cell_type": "code",
      "source": [
        "lista = [1, 2, 3, 4, 5]\n",
        "lista.append(6)\n",
        "print(\"Lista após adicionar 6:\", lista)"
      ],
      "metadata": {
        "colab": {
          "base_uri": "https://localhost:8080/"
        },
        "id": "nwONbAaF2Y8I",
        "outputId": "44ca6f0f-8ebc-4337-e56c-cf4c8c1d0145"
      },
      "execution_count": null,
      "outputs": [
        {
          "output_type": "stream",
          "name": "stdout",
          "text": [
            "Lista após adicionar 6: [1, 2, 3, 4, 5, 6]\n"
          ]
        }
      ]
    },
    {
      "cell_type": "markdown",
      "source": [
        "11. Remova o número 3 da lista anterior."
      ],
      "metadata": {
        "id": "9d4jaiSQ2ryO"
      }
    },
    {
      "cell_type": "code",
      "source": [
        "lista = [1, 2, 3, 4, 5]\n",
        "lista.remove(3)\n",
        "print(lista)"
      ],
      "metadata": {
        "colab": {
          "base_uri": "https://localhost:8080/"
        },
        "id": "el8ni1Mg2qzG",
        "outputId": "29f9eab9-24c4-448f-8d86-fac78b57c512"
      },
      "execution_count": null,
      "outputs": [
        {
          "output_type": "stream",
          "name": "stdout",
          "text": [
            "[1, 2, 4, 5]\n"
          ]
        }
      ]
    },
    {
      "cell_type": "markdown",
      "source": [
        "12. Crie uma tupla com os números de 1 a 5 e tente alterar o valor do terceiro elemento para 10."
      ],
      "metadata": {
        "id": "mp5Bl4zn5btC"
      }
    },
    {
      "cell_type": "code",
      "source": [
        "tupla = (1, 2, 3, 4, 5)\n",
        "try:\n",
        "    tupla[2] = 10\n",
        "except TypeError:\n",
        "    print(\"Não é possível modificar uma tupla\")"
      ],
      "metadata": {
        "colab": {
          "base_uri": "https://localhost:8080/"
        },
        "id": "vRPGNh8y5f63",
        "outputId": "bfee9b6a-bbe7-4917-8bdd-a95280f41bf1"
      },
      "execution_count": null,
      "outputs": [
        {
          "output_type": "stream",
          "name": "stdout",
          "text": [
            "Não é possível modificar uma tupla\n"
          ]
        }
      ]
    },
    {
      "cell_type": "markdown",
      "source": [
        "13. Crie um dicionário com chaves sendo os dias da semana e os valores os números correspondentes (1 para Segunda, 2 para Terça, etc.)."
      ],
      "metadata": {
        "id": "nZ1VzZLj6POu"
      }
    },
    {
      "cell_type": "code",
      "source": [
        "dias = {\n",
        "    \"Segunda\": 1,\n",
        "    \"Terça\": 2,\n",
        "    \"Quarta\": 3,\n",
        "    \"Quinta\": 4,\n",
        "    \"Sexta\": 5,\n",
        "    \"Sábado\": 6,\n",
        "    \"Domingo\": 7\n",
        "}\n",
        "print(\"Dicionário original:\", dias)"
      ],
      "metadata": {
        "colab": {
          "base_uri": "https://localhost:8080/"
        },
        "id": "zr4HXyKO6Qgy",
        "outputId": "9ac41a69-c4fd-412a-c80c-065beafdfcd4"
      },
      "execution_count": null,
      "outputs": [
        {
          "output_type": "stream",
          "name": "stdout",
          "text": [
            "Dicionário original: {'Segunda': 1, 'Terça': 2, 'Quarta': 3, 'Quinta': 4, 'Sexta': 5, 'Sábado': 6, 'Domingo': 7}\n"
          ]
        }
      ]
    },
    {
      "cell_type": "markdown",
      "source": [
        "14. Adicione um par chave-valor ao dicionário anterior: “Feriado” com o valor 0."
      ],
      "metadata": {
        "id": "uLSrStLu6mll"
      }
    },
    {
      "cell_type": "code",
      "source": [
        "dias[\"Feriado\"] = 0\n",
        "print(dias)"
      ],
      "metadata": {
        "colab": {
          "base_uri": "https://localhost:8080/"
        },
        "id": "QzMfsAoX6qmA",
        "outputId": "63b8881a-a23b-426e-f8b6-f42904231242"
      },
      "execution_count": null,
      "outputs": [
        {
          "output_type": "stream",
          "name": "stdout",
          "text": [
            "{'Segunda': 1, 'Terça': 2, 'Quarta': 3, 'Quinta': 4, 'Sexta': 5, 'Sábado': 6, 'Domingo': 7, 'Feriado': 0}\n"
          ]
        }
      ]
    },
    {
      "cell_type": "markdown",
      "source": [
        "15. Crie um conjunto com os números 1, 2, 3, 4 e 5 e adicione o número 6."
      ],
      "metadata": {
        "id": "gfLH5LMt6_yt"
      }
    },
    {
      "cell_type": "code",
      "source": [
        "conjunto = {1, 3, 2, 4, 5}\n",
        "conjunto.add(6)\n",
        "print(conjunto)"
      ],
      "metadata": {
        "colab": {
          "base_uri": "https://localhost:8080/"
        },
        "id": "VyrrNYk_7BHH",
        "outputId": "1cb3334a-9c2b-4f2c-f5fb-e0d9697c1d9c"
      },
      "execution_count": null,
      "outputs": [
        {
          "output_type": "stream",
          "name": "stdout",
          "text": [
            "{1, 2, 3, 4, 5, 6}\n"
          ]
        }
      ]
    },
    {
      "cell_type": "markdown",
      "source": [
        "16. Remova o número 3 do conjunto anterior."
      ],
      "metadata": {
        "id": "TjORDECM8asX"
      }
    },
    {
      "cell_type": "code",
      "source": [
        "conjunto.remove(3)\n",
        "print(conjunto)"
      ],
      "metadata": {
        "colab": {
          "base_uri": "https://localhost:8080/"
        },
        "id": "i8EEW-1-8fkG",
        "outputId": "a5c82ef6-002d-4ea6-98ca-06475c9fa346"
      },
      "execution_count": null,
      "outputs": [
        {
          "output_type": "stream",
          "name": "stdout",
          "text": [
            "{1, 2, 4, 5, 6}\n"
          ]
        }
      ]
    },
    {
      "cell_type": "markdown",
      "source": [
        "17. Escreva um programa que lê uma lista de números do usuário e imprime o maior e o menor número."
      ],
      "metadata": {
        "id": "MtTIXbwt9C7r"
      }
    },
    {
      "cell_type": "code",
      "source": [
        "numeros = input(\"Digite vários números separados por espaço: \")\n",
        "lista_numeros = [int(x) for x in numeros.split()]\n",
        "print(\"Maior número:\", maximo(lista_numeros))\n",
        "print(\"Menor número:\", minimo(lista_numeros))\n"
      ],
      "metadata": {
        "colab": {
          "base_uri": "https://localhost:8080/",
          "height": 211
        },
        "id": "8wzK2cjr9Cej",
        "outputId": "582e2980-52b3-4838-b354-6430c9ab3335"
      },
      "execution_count": null,
      "outputs": [
        {
          "name": "stdout",
          "output_type": "stream",
          "text": [
            "Digite vários números separados por espaço: 8 9 1 \n"
          ]
        },
        {
          "output_type": "error",
          "ename": "NameError",
          "evalue": "name 'maximo' is not defined",
          "traceback": [
            "\u001b[0;31m---------------------------------------------------------------------------\u001b[0m",
            "\u001b[0;31mNameError\u001b[0m                                 Traceback (most recent call last)",
            "\u001b[0;32m/tmp/ipython-input-651457863.py\u001b[0m in \u001b[0;36m<cell line: 0>\u001b[0;34m()\u001b[0m\n\u001b[1;32m      1\u001b[0m \u001b[0mnumeros\u001b[0m \u001b[0;34m=\u001b[0m \u001b[0minput\u001b[0m\u001b[0;34m(\u001b[0m\u001b[0;34m\"Digite vários números separados por espaço: \"\u001b[0m\u001b[0;34m)\u001b[0m\u001b[0;34m\u001b[0m\u001b[0;34m\u001b[0m\u001b[0m\n\u001b[1;32m      2\u001b[0m \u001b[0mlista_numeros\u001b[0m \u001b[0;34m=\u001b[0m \u001b[0;34m[\u001b[0m\u001b[0mint\u001b[0m\u001b[0;34m(\u001b[0m\u001b[0mx\u001b[0m\u001b[0;34m)\u001b[0m \u001b[0;32mfor\u001b[0m \u001b[0mx\u001b[0m \u001b[0;32min\u001b[0m \u001b[0mnumeros\u001b[0m\u001b[0;34m.\u001b[0m\u001b[0msplit\u001b[0m\u001b[0;34m(\u001b[0m\u001b[0;34m)\u001b[0m\u001b[0;34m]\u001b[0m\u001b[0;34m\u001b[0m\u001b[0;34m\u001b[0m\u001b[0m\n\u001b[0;32m----> 3\u001b[0;31m \u001b[0mprint\u001b[0m\u001b[0;34m(\u001b[0m\u001b[0;34m\"Maior número:\"\u001b[0m\u001b[0;34m,\u001b[0m \u001b[0mmaximo\u001b[0m\u001b[0;34m(\u001b[0m\u001b[0mlista_numeros\u001b[0m\u001b[0;34m)\u001b[0m\u001b[0;34m)\u001b[0m\u001b[0;34m\u001b[0m\u001b[0;34m\u001b[0m\u001b[0m\n\u001b[0m\u001b[1;32m      4\u001b[0m \u001b[0mprint\u001b[0m\u001b[0;34m(\u001b[0m\u001b[0;34m\"Menor número:\"\u001b[0m\u001b[0;34m,\u001b[0m \u001b[0mminimo\u001b[0m\u001b[0;34m(\u001b[0m\u001b[0mlista_numeros\u001b[0m\u001b[0;34m)\u001b[0m\u001b[0;34m)\u001b[0m\u001b[0;34m\u001b[0m\u001b[0;34m\u001b[0m\u001b[0m\n",
            "\u001b[0;31mNameError\u001b[0m: name 'maximo' is not defined"
          ]
        }
      ]
    },
    {
      "cell_type": "markdown",
      "source": [
        "18. Faça um programa que lê uma frase do usuário e conta quantas vezes aparece a letra ‘a’."
      ],
      "metadata": {
        "id": "5X7qR15e9d49"
      }
    },
    {
      "cell_type": "code",
      "source": [
        "frase = input(\"Digite uma frase: \")\n",
        "contador_a = frase.lower().count('a')\n",
        "print(\"A letra 'a' aparece\", contador_a, \"vezes.\")"
      ],
      "metadata": {
        "colab": {
          "base_uri": "https://localhost:8080/"
        },
        "id": "Bwdj7Fm39tE_",
        "outputId": "51b0b7f8-4165-43b0-cd60-73c1279d12e8"
      },
      "execution_count": null,
      "outputs": [
        {
          "output_type": "stream",
          "name": "stdout",
          "text": [
            "Digite uma frase: majo Garcia\n",
            "A letra 'a' aparece 3 vezes.\n"
          ]
        }
      ]
    },
    {
      "cell_type": "markdown",
      "source": [
        "19. Crie um programa que converte uma temperatura de Celsius para Fahrenheit."
      ],
      "metadata": {
        "id": "7Hr-iB5K97dc"
      }
    },
    {
      "cell_type": "code",
      "source": [
        "celsius = float(input(\"Digite a temperatura em Celsius: \"))\n",
        "fahrenheit = (celsius * 9/5) + 32\n",
        "print(f\"{celsius}°C equivalem a {fahrenheit}°F\")"
      ],
      "metadata": {
        "colab": {
          "base_uri": "https://localhost:8080/"
        },
        "id": "D29bEAeP9_eh",
        "outputId": "ffda65e3-266a-4336-f465-9d2e3c80a2ad"
      },
      "execution_count": null,
      "outputs": [
        {
          "output_type": "stream",
          "name": "stdout",
          "text": [
            "Digite a temperatura em Celsius: 345\n",
            "345.0°C equivalem a 653.0°F\n"
          ]
        }
      ]
    }
  ]
}